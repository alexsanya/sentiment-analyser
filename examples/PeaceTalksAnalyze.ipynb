{
 "cells": [
  {
   "cell_type": "markdown",
   "id": "6422b455-74b9-4e08-8b5c-5ba0f1d211b3",
   "metadata": {},
   "source": [
    "# Collection and summarizing facts of Trump-Zelenskyy meeting"
   ]
  },
  {
   "cell_type": "code",
   "execution_count": 31,
   "id": "f7a06191-ebc9-4f03-ae8f-fa16079939da",
   "metadata": {},
   "outputs": [
    {
     "data": {
      "text/plain": [
       "True"
      ]
     },
     "execution_count": 31,
     "metadata": {},
     "output_type": "execute_result"
    }
   ],
   "source": [
    "from dotenv import load_dotenv\n",
    "load_dotenv()"
   ]
  },
  {
   "cell_type": "code",
   "execution_count": 32,
   "id": "71fbedb0-1b27-43df-9864-5200036a6546",
   "metadata": {},
   "outputs": [],
   "source": [
    "from pydantic import BaseModel, Field\n",
    "from dataclasses import dataclass\n",
    "from pydantic_ai import Agent, ModelRetry, RunContext\n",
    "from typing import Optional\n",
    "import os\n",
    "from pydantic_ai.models.openai import OpenAIModel\n",
    "from pydantic_ai.providers.openrouter import OpenRouterProvider"
   ]
  },
  {
   "cell_type": "markdown",
   "id": "71fb0330-1c50-459e-9cdb-924a33a0372f",
   "metadata": {},
   "source": [
    "## Filtering incoming tweets"
   ]
  },
  {
   "cell_type": "code",
   "execution_count": 33,
   "id": "035a9512-0675-437c-baa6-33afb9258d8c",
   "metadata": {},
   "outputs": [],
   "source": [
    "class TopicFilter(BaseModel):\n",
    "    \"\"\"Whether this is related to Trump/Zelenskyy meeting\"\"\"\n",
    "    topic_match: bool = Field(description = \"Whether this news match the topic (Yes or No)\")\n",
    "    explanation: Optional[str] = Field(description = \"explanation after of Yes/No answer\")"
   ]
  },
  {
   "cell_type": "code",
   "execution_count": 34,
   "id": "e005643b-5a77-4bfd-8c6f-eda5ae8cdf01",
   "metadata": {},
   "outputs": [],
   "source": [
    "@dataclass\n",
    "class Deps:\n",
    "    \"\"\"Dependencies\"\"\""
   ]
  },
  {
   "cell_type": "code",
   "execution_count": 35,
   "id": "9effb9f5-3402-4b56-9826-7671ffd65e8f",
   "metadata": {},
   "outputs": [],
   "source": [
    "model = OpenAIModel(\n",
    "    'x-ai/grok-4',\n",
    "    provider=OpenRouterProvider(api_key=os.getenv(\"OPENROUTER_API_KEY\")),\n",
    ")\n",
    "\n",
    "\n",
    "topic_filter_agent = Agent[Deps, TopicFilter](\n",
    "    model,\n",
    "    output_type=TopicFilter,\n",
    "    retries=3,\n",
    "    system_prompt=(\n",
    "        '''\n",
    "            ## Role\n",
    "            You are an AI classifier specialized in analyzing news tweets.\n",
    "            Your task is to determine if a given tweet from one of the following mass media accounts—@BBCBreaking, @Reuters, @AP, @Axios, or @FoxNews—is related to concrete, actionable outcomes of the meeting between U.S. President Donald Trump and Ukrainian President Volodymyr Zelenskyy, scheduled for August 18, 2025, at the White House in Washington, D.C., focusing on ending Russia’s war in Ukraine.\n",
    "            ## Input\n",
    "            You will receive the text of a single tweet as input. Assume it is from one of the listed accounts.\n",
    "            ## Output\n",
    "            Respond with exactly one of the following:\n",
    "                - \"Yes\" if the tweet describes specific, actionable outcomes of the Trump-Zelenskyy meeting, such as concrete agreements, measurable commitments, or real policy changes (e.g., signed deals, ceasefire terms, funding pledges, or troop deployments). Use semantic and contextual analysis to confirm relevance, even if the date, location, or terms like \"meeting\" are omitted.\n",
    "            - \"No\" if the tweet is unrelated or only mentions ceremonial aspects (e.g., photo ops, handshakes, or general statements without actionable results).\n",
    "            Provide a brief 1-2 sentence explanation after your Yes/No answer, justifying your decision based on key elements in the tweet. Do not output anything else.\n",
    "        '''\n",
    "    ),\n",
    ")"
   ]
  },
  {
   "cell_type": "markdown",
   "id": "40e82040-d982-4c7f-b729-3e50ad2b3940",
   "metadata": {},
   "source": [
    "# Test tweets filtering by topic\n",
    "\n",
    "## Ceremonial Tweets (Should be \"No\"):\n",
    "\n",
    "- @AP: Presidents Trump and Zelenskyy exchange warm handshakes at White House arrival for Ukraine talks.\n",
    "\n",
    "- @Reuters: Trump welcomes Zelenskyy with a photo op in the Oval Office ahead of discussions on peace.\n",
    "\n",
    "- @BBCBreaking: Leaders pose for cameras at the start of the White House summit on Ukraine.\n",
    "\n",
    "- @Axios: Ceremonial dinner hosted by Trump for Zelenskyy and European allies post-meeting greetings.\n",
    "\n",
    "- @FoxNews: Trump and Zelenskyy share opening remarks praising mutual respect at White House event.\n",
    "\n",
    "## Actionable Tweets (Should be \"Yes\"):\n",
    "\n",
    "- @AP: Trump and Zelenskyy agree to $10B US aid package for Ukraine reconstruction in White House deal.\n",
    "\n",
    "- @Reuters: Leaders commit to joint monitoring of Ukraine ceasefire with NATO involvement post-summit.\n",
    "\n",
    "- @BBCBreaking: White House meeting yields policy shift: US to provide advanced weaponry to Ukraine forces.\n",
    "\n",
    "- @Axios: Trump-Zelenskyy pact includes measurable troop withdrawal timeline from key Ukraine regions.\n",
    "\n",
    "- @FoxNews: Agreement reached on economic sanctions relief in exchange for Russia-Ukraine peace terms."
   ]
  },
  {
   "cell_type": "code",
   "execution_count": 36,
   "id": "19d26851-8454-422d-951b-5fdd09d36459",
   "metadata": {},
   "outputs": [],
   "source": [
    "import json\n",
    "\n",
    "tests_json = '''\n",
    "[\n",
    "  {\n",
    "    \"headline\": \"Presidents Trump and Zelenskyy exchange warm handshakes at White House arrival for Ukraine talks.\",\n",
    "    \"is_relevant\": false\n",
    "  },\n",
    "  {\n",
    "    \"headline\": \"Trump welcomes Zelenskyy with a photo op in the Oval Office ahead of discussions on peace.\",\n",
    "    \"is_relevant\": false\n",
    "  },\n",
    "  {\n",
    "    \"headline\": \"Leaders pose for cameras at the start of the White House summit on Ukraine.\",\n",
    "    \"is_relevant\": false\n",
    "  },\n",
    "  {\n",
    "    \"headline\": \"Ceremonial dinner hosted by Trump for Zelenskyy and European allies post-meeting greetings.\",\n",
    "    \"is_relevant\": false\n",
    "  },\n",
    "  {\n",
    "    \"headline\": \"Trump and Zelenskyy share opening remarks praising mutual respect at White House event.\",\n",
    "    \"is_relevant\": false\n",
    "  },\n",
    "  {\n",
    "    \"headline\": \"Trump and Zelenskyy agree to $10B US aid package for Ukraine reconstruction in White House deal.\",\n",
    "    \"is_relevant\": true\n",
    "  },\n",
    "  {\n",
    "    \"headline\": \"Leaders commit to joint monitoring of Ukraine ceasefire with NATO involvement post-summit.\",\n",
    "    \"is_relevant\": true\n",
    "  },\n",
    "  {\n",
    "    \"headline\": \"White House meeting yields policy shift: US to provide advanced weaponry to Ukraine forces.\",\n",
    "    \"is_relevant\": true\n",
    "  },\n",
    "  {\n",
    "    \"headline\": \"Trump-Zelenskyy pact includes measurable troop withdrawal timeline from key Ukraine regions.\",\n",
    "    \"is_relevant\": true\n",
    "  },\n",
    "  {\n",
    "    \"headline\": \"Agreement reached on economic sanctions relief in exchange for Russia-Ukraine peace terms.\",\n",
    "    \"is_relevant\": true\n",
    "  }\n",
    "]\n",
    "'''\n",
    "\n",
    "test_cases = json.loads(tests_json)"
   ]
  },
  {
   "cell_type": "code",
   "execution_count": 44,
   "id": "52cba3c2-a516-4c1c-8dea-665f53970125",
   "metadata": {},
   "outputs": [],
   "source": [
    "import asyncio\n",
    "\n",
    "max_concurrent = 5\n",
    "# Semaphore to limit concurrent requests\n",
    "semaphore = asyncio.Semaphore(max_concurrent)\n",
    "\n",
    "async def process_single_case_with_limit(test_case: str, index: int):\n",
    "    \"\"\"Process a single test case with concurrency limit\"\"\"\n",
    "    async with semaphore:\n",
    "        try:\n",
    "            result = await topic_filter_agent.run(test_case['headline'])\n",
    "            return {\n",
    "                'promt': test_case['headline'],\n",
    "                'result': result,\n",
    "                'expected': test_case['is_relevant'],\n",
    "                'success': True,\n",
    "                'error': None\n",
    "            }\n",
    "        except Exception as e:\n",
    "            return {\n",
    "                'index': index,\n",
    "                'promt': test_case['headline'],\n",
    "                'result': None,\n",
    "                'success': False,\n",
    "                'error': str(e)\n",
    "            }\n",
    "\n",
    "\n",
    "tasks = [\n",
    "    process_single_case_with_limit(test_case, index) \n",
    "    for index, test_case in enumerate(test_cases)\n",
    "]\n",
    "results = await asyncio.gather(*tasks)"
   ]
  },
  {
   "cell_type": "code",
   "execution_count": 50,
   "id": "f4758123-d976-41dd-b4e7-fd9661dcdb6b",
   "metadata": {},
   "outputs": [
    {
     "name": "stdout",
     "output_type": "stream",
     "text": [
      "Testing News Filtering Agent\n",
      "==================================================\n",
      "✓ PASS | 'Presidents Trump and Zelenskyy exchange warm handshakes at White House arrival for Ukraine talks.' -> False (expected: False)\n",
      "✓ PASS | 'Trump welcomes Zelenskyy with a photo op in the Oval Office ahead of discussions on peace.' -> False (expected: False)\n",
      "✓ PASS | 'Leaders pose for cameras at the start of the White House summit on Ukraine.' -> False (expected: False)\n",
      "✓ PASS | 'Ceremonial dinner hosted by Trump for Zelenskyy and European allies post-meeting greetings.' -> False (expected: False)\n",
      "✓ PASS | 'Trump and Zelenskyy share opening remarks praising mutual respect at White House event.' -> False (expected: False)\n",
      "✓ PASS | 'Trump and Zelenskyy agree to $10B US aid package for Ukraine reconstruction in White House deal.' -> True (expected: True)\n",
      "✓ PASS | 'Leaders commit to joint monitoring of Ukraine ceasefire with NATO involvement post-summit.' -> True (expected: True)\n",
      "✓ PASS | 'White House meeting yields policy shift: US to provide advanced weaponry to Ukraine forces.' -> True (expected: True)\n",
      "✓ PASS | 'Trump-Zelenskyy pact includes measurable troop withdrawal timeline from key Ukraine regions.' -> True (expected: True)\n",
      "✓ PASS | 'Agreement reached on economic sanctions relief in exchange for Russia-Ukraine peace terms.' -> True (expected: True)\n",
      "\n",
      "==================================================\n",
      "Test completed!\n"
     ]
    }
   ],
   "source": [
    "print(\"Testing News Filtering Agent\")\n",
    "print(\"=\" * 50)\n",
    "\n",
    "for result in results:\n",
    "    try:\n",
    "        status = \"✓ PASS\" if result['expected'] == result['result'].output.topic_match else \"✗ FAIL\"\n",
    "        print(f\"{status} | '{result['promt']}' -> {result['result'].output.topic_match} (expected: {result['expected']})\")\n",
    "    except Exception as e:\n",
    "        print(f\"✗ ERROR | '{result['promt']}' -> Error: {e}\")\n",
    "\n",
    "print(\"\\n\" + \"=\" * 50)\n",
    "print(\"Test completed!\")"
   ]
  },
  {
   "cell_type": "markdown",
   "id": "0d9dee6e-539d-44b3-be65-b42630bf8e13",
   "metadata": {},
   "source": [
    "## Prevent duplications"
   ]
  },
  {
   "cell_type": "code",
   "execution_count": 62,
   "id": "3bf2de53-8ce2-44ff-9245-3843c43daab9",
   "metadata": {},
   "outputs": [],
   "source": [
    "class DuplicateCheckResult(BaseModel):\n",
    "    \"\"\"Result of duplicate check - returns only a boolean value\"\"\"\n",
    "    is_duplicate: bool = Field(description=\"True if the news is duplicate, False if it's unique\")\n",
    "\n",
    "\n",
    "class NewsDatabase:\n",
    "    \"\"\"Simple database to store existing news items\"\"\"\n",
    "    \n",
    "    def __init__(self, existing_news: List[str]):\n",
    "        self.existing_news = existing_news\n",
    "    \n",
    "    def get_existing_news(self) -> List[str]:\n",
    "        return self.existing_news\n"
   ]
  },
  {
   "cell_type": "code",
   "execution_count": 63,
   "id": "54d813e0-b982-417a-a1eb-c3be72d50578",
   "metadata": {},
   "outputs": [],
   "source": [
    "# Create the agent with explicit output type\n",
    "duplicate_detector_agent = Agent[NewsDatabase, DuplicateCheckResult](\n",
    "    model,\n",
    "    deps_type=NewsDatabase,\n",
    "    output_type=DuplicateCheckResult,\n",
    "    system_prompt=(\n",
    "        \"You are a news duplicate detection expert. Your job is to determine if a new news tweet \"\n",
    "        \"conveys the same information as any existing news in the database, even if worded differently. \"\n",
    "        \"Focus on the core information and facts, not the exact wording. \"\n",
    "        \"Return True if the news is substantially similar to existing news, False if it's unique.\"\n",
    "    ),\n",
    ")"
   ]
  },
  {
   "cell_type": "code",
   "execution_count": 64,
   "id": "78a2d3d8-3f86-4020-b33c-636ab763697f",
   "metadata": {},
   "outputs": [],
   "source": [
    "@duplicate_detector_agent.tool\n",
    "async def check_against_existing_news(\n",
    "    ctx: RunContext[NewsDatabase], \n",
    "    new_news: str\n",
    ") -> str:\n",
    "    \"\"\"Compare the new news against all existing news items in the database.\"\"\"\n",
    "    existing_news = ctx.deps.get_existing_news()\n",
    "    \n",
    "    if not existing_news:\n",
    "        return \"No existing news found in database.\"\n",
    "    \n",
    "    news_list = \"\\n\".join([f\"{i+1}. {news}\" for i, news in enumerate(existing_news)])\n",
    "    \n",
    "    return f\"\"\"\n",
    "    New news to check: \"{new_news}\"\n",
    "    \n",
    "    Existing news in database:\n",
    "    {news_list}\n",
    "    \n",
    "    Please analyze if the new news conveys substantially the same information \n",
    "    as any of the existing news items, considering:\n",
    "    - Core facts and events\n",
    "    - Key people involved\n",
    "    - Main outcomes or decisions\n",
    "    - Geographic locations\n",
    "    - Time periods mentioned\n",
    "    \n",
    "    Ignore differences in:\n",
    "    - Exact wording or phrasing\n",
    "    - Writing style\n",
    "    - Minor details that don't change the core message\n",
    "    \"\"\""
   ]
  },
  {
   "cell_type": "code",
   "execution_count": 69,
   "id": "8d0802c6-830d-404f-896d-6cae8008b788",
   "metadata": {},
   "outputs": [],
   "source": [
    "async def is_duplicate_news(new_news: str, existing_news: List[str]) -> bool:\n",
    "    \"\"\"\n",
    "    Async version of duplicate detection for better performance.\n",
    "    \n",
    "    Args:\n",
    "        new_news: The new news tweet to check\n",
    "        existing_news: List of existing news tweets\n",
    "    \n",
    "    Returns:\n",
    "        bool: True if duplicate, False if unique\n",
    "    \"\"\"\n",
    "    news_db = NewsDatabase(existing_news)\n",
    "    \n",
    "    result = await duplicate_detector_agent.run(\n",
    "        f\"Is this news duplicate? Check: '{new_news}'\",\n",
    "        deps=news_db\n",
    "    )\n",
    "    \n",
    "    return result.output.is_duplicate"
   ]
  },
  {
   "cell_type": "markdown",
   "id": "b63ee4d8-327c-453d-9956-78a2178671a3",
   "metadata": {},
   "source": [
    "## Test prevent duplications"
   ]
  },
  {
   "cell_type": "code",
   "execution_count": 70,
   "id": "2eb90256-8157-4a52-b975-4864495a3132",
   "metadata": {},
   "outputs": [],
   "source": [
    "input_outcomes = [\n",
    "    \"Trump and Zelenskyy agree to a $10B US aid package for Ukraine reconstruction, to be disbursed over two years.\",\n",
    "    \"Leaders commit to establishing a NATO-led ceasefire monitoring mission in eastern Ukraine by September 2025.\",\n",
    "    \"US agrees to supply Ukraine with advanced air defense systems to protect key cities, effective immediately.\",\n",
    "    \"No agreement reached on Russian troop withdrawal from occupied Ukrainian territories.\"\n",
    "]\n",
    "\n",
    "# Test cases\n",
    "test_cases = [\n",
    "    (\"Russia will not give up captured land\", True),  # Should be duplicate of last item\n",
    "    (\"New $5B trade deal announced between US and Canada\", False),  # Should be unique\n",
    "    (\"Putin refuses to withdraw troops from Ukrainian regions\", True),  # Should be duplicate\n",
    "    (\"Ukraine to receive air defense systems from America\", True),  # Should be duplicate\n",
    "    (\"NATO to monitor ceasefire in eastern Ukraine from September\", True),  # Should be duplicate\n",
    "    (\"Biden announces new climate change initiative\", False),  # Should be unique\n",
    "]"
   ]
  },
  {
   "cell_type": "code",
   "execution_count": 71,
   "id": "d292400c-4f02-4200-be5c-dbae6928b3d7",
   "metadata": {},
   "outputs": [],
   "source": [
    "async def process_single_case_with_limit(test_case: str, expected: bool, index: int):\n",
    "    \"\"\"Process a single test case with concurrency limit\"\"\"\n",
    "    async with semaphore:\n",
    "        try:\n",
    "            result = await is_duplicate_news(test_case, input_outcomes)\n",
    "            return {\n",
    "                'tweet': test_case,\n",
    "                'result': result,\n",
    "                'expected': expected,\n",
    "                'success': True,\n",
    "            }\n",
    "        except Exception as e:\n",
    "            return {\n",
    "                'index': index,\n",
    "                'tweet': test_case,\n",
    "                'result': None,\n",
    "                'success': False,\n",
    "                'error': str(e)\n",
    "            }\n",
    "\n",
    "\n",
    "tasks = [\n",
    "    process_single_case_with_limit(test_case, expected, index) \n",
    "    for index, (test_case, expected) in enumerate(test_cases)\n",
    "]\n",
    "results = await asyncio.gather(*tasks)"
   ]
  },
  {
   "cell_type": "code",
   "execution_count": 75,
   "id": "8b333596-b4dc-46bb-a40c-ece353514664",
   "metadata": {},
   "outputs": [
    {
     "name": "stdout",
     "output_type": "stream",
     "text": [
      "Testing News Duplicate filtering Agent\n",
      "==================================================\n",
      "✓ PASS | 'Russia will not give up captured land' -> True (expected: True)\n",
      "✓ PASS | 'New $5B trade deal announced between US and Canada' -> False (expected: False)\n",
      "✓ PASS | 'Putin refuses to withdraw troops from Ukrainian regions' -> True (expected: True)\n",
      "✓ PASS | 'Ukraine to receive air defense systems from America' -> True (expected: True)\n",
      "✓ PASS | 'NATO to monitor ceasefire in eastern Ukraine from September' -> True (expected: True)\n",
      "✓ PASS | 'Biden announces new climate change initiative' -> False (expected: False)\n",
      "\n",
      "==================================================\n",
      "Test completed!\n"
     ]
    }
   ],
   "source": [
    "print(\"Testing News Duplicate filtering Agent\")\n",
    "print(\"=\" * 50)\n",
    "\n",
    "for result in results:\n",
    "    try:\n",
    "        status = \"✓ PASS\" if result['expected'] == result['result'] else \"✗ FAIL\"\n",
    "        print(f\"{status} | '{result['tweet']}' -> {result['result']} (expected: {result['expected']})\")\n",
    "    except Exception as e:\n",
    "        print(f\"✗ ERROR | '{result['tweet']}' -> Error: {e}\")\n",
    "\n",
    "print(\"\\n\" + \"=\" * 50)\n",
    "print(\"Test completed!\")"
   ]
  },
  {
   "cell_type": "markdown",
   "id": "64fa8e37-52a9-4ee4-9320-c0242ce926fa",
   "metadata": {},
   "source": [
    "## Summarizing the facts"
   ]
  },
  {
   "cell_type": "code",
   "execution_count": 76,
   "id": "d9fc65d0-0ea0-4f23-a793-168f4ad03e05",
   "metadata": {},
   "outputs": [],
   "source": [
    "from typing import List\n",
    "\n",
    "class OutcomeAnalysis(BaseModel):\n",
    "    description: str = Field(..., min_length=1, description=\"Description of the actionable outcome from the meeting\")\n",
    "    significance: str = Field(..., min_length=1, description=\"Brief analysis of the outcome's significance (1-2 sentences)\")\n",
    "    impact_score: int = Field(..., ge=1, le=10, description=\"Impact score from 1 to 10 for the outcome's effect on peace or ceasefire\")\n",
    "\n",
    "class MeetingAnalysis(BaseModel):\n",
    "    outcomes: List[OutcomeAnalysis] = Field(..., min_items=1, description=\"List of analyzed outcomes from the Trump-Zelenskyy meeting\")\n",
    "    overall_score: int = Field(..., ge=1, le=10, description=\"Overall score from 1 to 10 for likelihood of peace deal or ceasefire\")\n",
    "    overall_explanation: str = Field(..., min_length=1, description=\"Brief explanation for the overall score (1-2 sentences)\")"
   ]
  },
  {
   "cell_type": "code",
   "execution_count": 77,
   "id": "b2916bca-7b6d-4585-b907-a9e639d7d9b3",
   "metadata": {},
   "outputs": [],
   "source": [
    "model = OpenAIModel(\n",
    "    'x-ai/grok-4',\n",
    "    provider=OpenRouterProvider(api_key=os.getenv(\"OPENROUTER_API_KEY\")),\n",
    ")\n",
    "\n",
    "\n",
    "geo_expert_agent = Agent[Deps, MeetingAnalysis](\n",
    "    model,\n",
    "    output_type=MeetingAnalysis,\n",
    "    retries=3,\n",
    "    system_prompt=(\n",
    "        '''\n",
    "            ## Role\n",
    "            You are a geopolitical expert with comprehensive knowledge of the Russia-Ukraine conflict, including historical context, key stakeholders, ongoing military dynamics, diplomatic efforts, and potential pathways to resolution.\n",
    "            \n",
    "            ## Input\n",
    "            You will be given a list of actionable outcomes from the Trump-Zelenskyy meeting (e.g., concrete agreements, commitments, or policy changes). Assume the meeting occurred on August 18, 2025, at the White House, focusing on ending Russia's war in Ukraine.\n",
    "            \n",
    "            ## Task\n",
    "            For each actionable outcome in the list:\n",
    "            - Analyze its significance in the context of the Russia-Ukraine conflict.\n",
    "            - Rate its individual impact on the likelihood of achieving a peace deal or temporary ceasefire (1-10 scale, where 1 means it has negligible or negative effect, and 10 means it directly resolves major issues).\n",
    "            \n",
    "            Then, provide an overall score (1-10) assessing how likely the combined outcomes are to lead to a peace deal or at least a temporary ceasefire within a defined timeline (e.g., weeks or months). Use this scale:\n",
    "            - 1: The outcomes make no difference or even reduce the chances of ceasefire/peace.\n",
    "            - 5: Moderate progress toward dialogue, but no binding commitments or timelines.\n",
    "            - 10: The end of the war is effectively announced, with a set date for implementation.\n",
    "            \n",
    "            ## Output\n",
    "            Structure your response as follows:\n",
    "            - For each item: [Item description] - Significance: [Brief analysis, 1-2 sentences]. Impact Score: [1-10].\n",
    "            - Overall Score: [1-10] - Explanation: [1-2 sentences justifying the score based on the combined outcomes].\n",
    "            Do not output anything else.\n",
    "        '''\n",
    "    ),\n",
    ")"
   ]
  },
  {
   "cell_type": "code",
   "execution_count": 78,
   "id": "4900b71f-7a15-4632-8518-c98eee18aa3d",
   "metadata": {},
   "outputs": [],
   "source": [
    "input_outcomes = [\n",
    "    \"Trump and Zelenskyy agree to a $10B US aid package for Ukraine reconstruction, to be disbursed over two years.\",\n",
    "    \"Leaders commit to establishing a NATO-led ceasefire monitoring mission in eastern Ukraine by September 2025.\",\n",
    "    \"US agrees to supply Ukraine with advanced air defense systems to protect key cities, effective immediately.\",\n",
    "    \"No agreement reached on Russian troop withdrawal from occupied Ukrainian territories.\"\n",
    "]"
   ]
  },
  {
   "cell_type": "markdown",
   "id": "a574e303-a6fb-4f6b-9de6-af47de7589e9",
   "metadata": {},
   "source": [
    "## Test summarizing the facts"
   ]
  },
  {
   "cell_type": "code",
   "execution_count": 79,
   "id": "2a67adef-b6ce-4d42-a182-b9e45d793613",
   "metadata": {},
   "outputs": [],
   "source": [
    "result = await geo_expert_agent.run(input_outcomes)"
   ]
  },
  {
   "cell_type": "code",
   "execution_count": 85,
   "id": "cdad4a9a-3bba-4cba-8bcb-3fa735de65bc",
   "metadata": {},
   "outputs": [
    {
     "name": "stdout",
     "output_type": "stream",
     "text": [
      "{\n",
      "  \"outcomes\": [\n",
      "    {\n",
      "      \"description\": \"Trump and Zelenskyy agree to a $10B US aid package for Ukraine reconstruction, to be disbursed over two years.\",\n",
      "      \"significance\": \"This aid package demonstrates continued US support for Ukraine's long-term stability and reconstruction, potentially incentivizing peace by focusing on post-conflict recovery, though it does not directly address ongoing military actions.\",\n",
      "      \"impact_score\": 5\n",
      "    },\n",
      "    {\n",
      "      \"description\": \"Leaders commit to establishing a NATO-led ceasefire monitoring mission in eastern Ukraine by September 2025.\",\n",
      "      \"significance\": \"Establishing a NATO-led monitoring mission represents a tangible step toward de-escalation and oversight of a potential ceasefire, which could build trust and facilitate negotiations by involving international actors in the conflict zone.\",\n",
      "      \"impact_score\": 8\n",
      "    },\n",
      "    {\n",
      "      \"description\": \"US agrees to supply Ukraine with advanced air defense systems to protect key cities, effective immediately.\",\n",
      "      \"significance\": \"Providing advanced air defenses strengthens Ukraine's defensive capabilities, potentially reducing civilian casualties and deterring Russian aerial attacks, which might create a more balanced environment for peace talks.\",\n",
      "      \"impact_score\": 7\n",
      "    },\n",
      "    {\n",
      "      \"description\": \"No agreement reached on Russian troop withdrawal from occupied Ukrainian territories.\",\n",
      "      \"significance\": \"The absence of an agreement on troop withdrawal leaves a core territorial dispute unresolved, perpetuating the conflict's root causes and diminishing prospects for a comprehensive peace deal.\",\n",
      "      \"impact_score\": 2\n",
      "    }\n",
      "  ],\n",
      "  \"overall_score\": 6,\n",
      "  \"overall_explanation\": \"The combined outcomes show moderate progress through aid, defensive support, and a monitoring mission, which could pave the way for dialogue and a temporary ceasefire within months, but the lack of agreement on Russian troop withdrawal significantly hampers the likelihood of a full peace deal.\"\n",
      "}\n"
     ]
    }
   ],
   "source": [
    "print(json.dumps(result.output.model_dump(), indent=2, ensure_ascii=False))"
   ]
  }
 ],
 "metadata": {
  "kernelspec": {
   "display_name": "Python 3 (ipykernel)",
   "language": "python",
   "name": "python3"
  },
  "language_info": {
   "codemirror_mode": {
    "name": "ipython",
    "version": 3
   },
   "file_extension": ".py",
   "mimetype": "text/x-python",
   "name": "python",
   "nbconvert_exporter": "python",
   "pygments_lexer": "ipython3",
   "version": "3.12.11"
  }
 },
 "nbformat": 4,
 "nbformat_minor": 5
}
