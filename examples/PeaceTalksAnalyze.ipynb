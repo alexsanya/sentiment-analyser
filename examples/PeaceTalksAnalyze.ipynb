{
 "cells": [
  {
   "cell_type": "markdown",
   "id": "6422b455-74b9-4e08-8b5c-5ba0f1d211b3",
   "metadata": {},
   "source": [
    "## Grock sentiment test"
   ]
  },
  {
   "cell_type": "code",
   "execution_count": 1,
   "id": "f7a06191-ebc9-4f03-ae8f-fa16079939da",
   "metadata": {},
   "outputs": [
    {
     "data": {
      "text/plain": [
       "True"
      ]
     },
     "execution_count": 1,
     "metadata": {},
     "output_type": "execute_result"
    }
   ],
   "source": [
    "from dotenv import load_dotenv\n",
    "load_dotenv()"
   ]
  },
  {
   "cell_type": "code",
   "execution_count": 3,
   "id": "71fbedb0-1b27-43df-9864-5200036a6546",
   "metadata": {},
   "outputs": [],
   "source": [
    "from pydantic import BaseModel, Field\n",
    "from dataclasses import dataclass\n",
    "from pydantic_ai import Agent, ModelRetry, RunContext\n",
    "from typing import Optional\n",
    "import os\n",
    "from pydantic_ai.models.openai import OpenAIModel\n",
    "from pydantic_ai.providers.openrouter import OpenRouterProvider"
   ]
  },
  {
   "cell_type": "markdown",
   "id": "71fb0330-1c50-459e-9cdb-924a33a0372f",
   "metadata": {},
   "source": [
    "## Extraction of data from text"
   ]
  },
  {
   "cell_type": "code",
   "execution_count": 5,
   "id": "035a9512-0675-437c-baa6-33afb9258d8c",
   "metadata": {},
   "outputs": [],
   "source": [
    "class TopicFilter(BaseModel):\n",
    "    \"\"\"Whether this is related to Trump/Putin meeting\"\"\"\n",
    "    topic_match: bool = Field(description = \"Whether this news match the topic (Yes or No)\")\n",
    "    explanation: Optional[str] = Field(description = \"explanation after of Yes/No answer\")"
   ]
  },
  {
   "cell_type": "code",
   "execution_count": 6,
   "id": "e005643b-5a77-4bfd-8c6f-eda5ae8cdf01",
   "metadata": {},
   "outputs": [],
   "source": [
    "@dataclass\n",
    "class Deps:\n",
    "    \"\"\"Dependencies\"\"\""
   ]
  },
  {
   "cell_type": "code",
   "execution_count": 7,
   "id": "9effb9f5-3402-4b56-9826-7671ffd65e8f",
   "metadata": {},
   "outputs": [],
   "source": [
    "model = OpenAIModel(\n",
    "    'x-ai/grok-4',\n",
    "    provider=OpenRouterProvider(api_key=os.getenv(\"OPENROUTER_API_KEY\")),\n",
    ")\n",
    "\n",
    "\n",
    "topic_filter_agent = Agent[Deps, TopicFilter](\n",
    "    model,\n",
    "    output_type=TopicFilter,\n",
    "    retries=3,\n",
    "    system_prompt=(\n",
    "        '''\n",
    "        ## Role\n",
    "        You are an AI classifier specialized in analyzing news tweets.\n",
    "        Your task is to determine if a given tweet from one of the following mass media accounts @BBCBreaking, @Reuters, @AP, or @FoxNews\n",
    "        is related to the outcome of the meeting between Russian President Vladimir Putin and U.S. President Donald Trump,\n",
    "        which occurred on August 15, 2025, at Joint Base Elmendorf-Richardson in Anchorage, Alaska.\n",
    "        This summit focused on topics like a potential ceasefire in the Russia-Ukraine war.\n",
    "        ## Input\n",
    "            You will receive the text of a single tweet as input. Assume it is from one of the listed accounts.\n",
    "        ## Output\n",
    "            Respond with exactly one of the following:\n",
    "                \"Yes\" if the tweet is related to the meeting's outcome (e.g., decisions, agreements, statements, reactions, or results from the summit). Use semantic and contextual analysis to infer relevance, even if the date, location, or explicit terms like \"summit\" or \"meeting\" are omitted. For example, references to Putin-Trump talks, Russia-US diplomacy, Ukraine ceasefire announcements, or post-meeting developments could qualify.\n",
    "                \"No\" if the tweet is unrelated (e.g., about other events, general news, or topics not tied to this specific meeting's results).\n",
    "\n",
    "            Provide a brief 1-2 sentence explanation after your Yes/No answer, justifying your decision based on key elements in the tweet. Do not output anything else.\n",
    "        '''\n",
    "    ),\n",
    ")"
   ]
  },
  {
   "cell_type": "code",
   "execution_count": 11,
   "id": "4900b71f-7a15-4632-8518-c98eee18aa3d",
   "metadata": {},
   "outputs": [
    {
     "data": {
      "text/plain": [
       "AgentRunResult(output=TopicFilter(topic_match=False, explanation=\"The tweet features a general statement by Trump about solving multiple wars, but it lacks any specific reference to the Putin-Trump meeting, the summit's outcomes, or the Russia-Ukraine ceasefire, making it unrelated.\"))"
      ]
     },
     "execution_count": 11,
     "metadata": {},
     "output_type": "execute_result"
    }
   ],
   "source": [
    "await topic_filter_agent.run('Trump says he’s \"very proud\" of \"solving six wars in six months\"')"
   ]
  },
  {
   "cell_type": "code",
   "execution_count": 15,
   "id": "cdad4a9a-3bba-4cba-8bcb-3fa735de65bc",
   "metadata": {},
   "outputs": [
    {
     "data": {
      "text/plain": [
       "AgentRunResult(output=TopicFilter(topic_match=False, explanation=\"The tweet's cryptic reference to silence from a figure in Washington does not mention or imply any connection to the Putin-Trump meeting, its outcomes, or related topics like the Russia-Ukraine ceasefire.\"))"
      ]
     },
     "execution_count": 15,
     "metadata": {},
     "output_type": "execute_result"
    }
   ],
   "source": [
    "await topic_filter_agent.run(\"All eyes on Washington, and naught but deafening silence from the District's loudest defender\")"
   ]
  },
  {
   "cell_type": "code",
   "execution_count": 12,
   "id": "476c0a5c-c193-4aa6-8440-df1ff71e1bd4",
   "metadata": {},
   "outputs": [
    {
     "data": {
      "text/plain": [
       "AgentRunResult(output=TopicFilter(topic_match=False, explanation=\"The tweet focuses on Trump's revealed game plan and approach for the upcoming summit with Putin in Alaska, which is preparatory in nature and not related to the meeting's outcomes, decisions, or results.\"))"
      ]
     },
     "execution_count": 12,
     "metadata": {},
     "output_type": "execute_result"
    }
   ],
   "source": [
    "await topic_filter_agent.run('‘IT’S LIKE CHESS’: Donald J. Trump reveals his game plan for the high-stakes summit with Putin in Alaska, outlining how his negotiations with the Russian leader will differ from those of past presidents — including Bush, Obama, and Biden.')"
   ]
  },
  {
   "cell_type": "code",
   "execution_count": 14,
   "id": "316390e4-9ec0-445c-a592-5ba33c8d8802",
   "metadata": {},
   "outputs": [
    {
     "data": {
      "text/plain": [
       "AgentRunResult(output=TopicFilter(topic_match=True, explanation=\"The tweet directly quotes Trump's positive comments on an agreement reached with Putin, including a ceasefire starting tomorrow, which aligns with the summit's focus on a potential Russia-Ukraine ceasefire.\"))"
      ]
     },
     "execution_count": 14,
     "metadata": {},
     "output_type": "execute_result"
    }
   ],
   "source": [
    "await topic_filter_agent.run('Trump`s first comments after the meeting: I`m very happy with agreement we`ve reached with Putin, the ceasfire starts tomorrow')"
   ]
  },
  {
   "cell_type": "code",
   "execution_count": 16,
   "id": "cb00eba1-07e3-4e76-bed3-c445ed4fbf6e",
   "metadata": {},
   "outputs": [],
   "source": [
    "class AlignementData(BaseModel):\n",
    "    \"\"\"How aligned Russian President Vladimir Putin and U.S. President Donald Trump after the meeting\"\"\"\n",
    "    score: Optional[int] = Field(description = \"how aligned are both presidents on a scale from 1 to 10, of None if score is N/A\")\n",
    "    explanation: str = Field(description = \"explanation after your score (or N/A)\")"
   ]
  },
  {
   "cell_type": "code",
   "execution_count": 19,
   "id": "bc343cdc-9baa-475f-b996-d58b79120d4c",
   "metadata": {},
   "outputs": [],
   "source": [
    "topic_sentiment_agent = Agent[Deps, AlignementData](\n",
    "    model,\n",
    "    output_type=AlignementData,\n",
    "    retries=3,\n",
    "    system_prompt=(\n",
    "        '''\n",
    "            # Role\n",
    "            You are an AI analyzer specialized in evaluating diplomatic outcomes from news tweets.\n",
    "            Your task is to assess, based on a given tweet from one of the following mass media accounts: @BBCBreaking, @Reuters, @AP, or @FoxNews\n",
    "            how aligned Russian President Vladimir Putin and U.S. President Donald Trump appear to be after their meeting on August 15, 2025, at Joint Base Elmendorf-Richardson in Anchorage, Alaska.\n",
    "            This summit focused on topics like a potential ceasefire in the Russia-Ukraine war.\n",
    "            Alignment refers to the degree of agreement, satisfaction, and positive progress reported or implied in the tweet.\n",
    "\n",
    "            ## Input\n",
    "            You will receive the text of a single tweet as input.\n",
    "            Assume it is from one of the listed accounts and relates to the meeting's outcome.\n",
    "            Use semantic and contextual analysis to infer alignment, even if details like date, location,\n",
    "            explicit terms like \"summit\" or \"meeting,\" or direct quotes are omitted.\n",
    "            Consider elements such as agreements reached, statements from parties, reactions, tone, and implications for Russia-US relations or the Ukraine conflict.\n",
    "            \n",
    "            ## Output\n",
    "            Respond with a single integer from 1 to 10, where:\n",
    "            \n",
    "            - 1: The meeting made no difference; no agreements were reached, and parties remain unaligned or hostile.\n",
    "            - 5: Moderate progress; some agreements or discussions occurred, but alignment is partial with lingering disagreements.\n",
    "            - 10: The outcome exceeded expectations; both parties are highly aligned, happy with agreements, and show strong mutual satisfaction.\n",
    "                        \n",
    "            Provide a brief 1-2 sentence explanation after your score (or N/A), justifying your decision based on key elements in the tweet. Do not output anything else.\n",
    "        '''\n",
    "    ),\n",
    ")"
   ]
  },
  {
   "cell_type": "code",
   "execution_count": 20,
   "id": "46d02feb-e0bd-417d-8ed0-79b5b87172cd",
   "metadata": {},
   "outputs": [
    {
     "data": {
      "text/plain": [
       "AgentRunResult(output=AlignementData(score=1, explanation=\"The tweet describes deafening silence from the District's loudest defender, interpreted as Trump, who is typically vocal, suggesting the meeting with Putin yielded no agreements or positive outcomes, indicating no alignment or progress.\"))"
      ]
     },
     "execution_count": 20,
     "metadata": {},
     "output_type": "execute_result"
    }
   ],
   "source": [
    "await topic_sentiment_agent.run(\"All eyes on Washington, and naught but deafening silence from the District's loudest defender\")"
   ]
  },
  {
   "cell_type": "code",
   "execution_count": 22,
   "id": "fdef5414-b261-43d2-b481-bc228abd0d22",
   "metadata": {},
   "outputs": [
    {
     "data": {
      "text/plain": [
       "AgentRunResult(output=AlignementData(score=2, explanation=\"The abrupt ending of the meeting without a press conference and the Russian delegation's departure, coupled with Trump's statement about moving to 'plan B,' indicate a breakdown in talks with no agreements reached, suggesting low alignment and potential hostility.\"))"
      ]
     },
     "execution_count": 22,
     "metadata": {},
     "output_type": "execute_result"
    }
   ],
   "source": [
    "await topic_sentiment_agent.run('The meeting in Alaska have anded abruptly, Russian delegation have left without press-conferense. President Trump said: \"It`s time to move on to plan B\"')"
   ]
  },
  {
   "cell_type": "code",
   "execution_count": 23,
   "id": "fed21669-9102-4473-b747-1eeb2748a2f9",
   "metadata": {},
   "outputs": [
    {
     "data": {
      "text/plain": [
       "AgentRunResult(output=AlignementData(score=9, explanation=\"Trump expresses high satisfaction with the agreement reached with Putin, indicating strong alignment and positive progress, including an imminent ceasefire, though Putin's direct reaction is not mentioned.\"))"
      ]
     },
     "execution_count": 23,
     "metadata": {},
     "output_type": "execute_result"
    }
   ],
   "source": [
    "await topic_sentiment_agent.run('Trump`s first comments after the meeting: I`m very happy with agreement we`ve reached with Putin, the ceasfire starts tomorrow')"
   ]
  },
  {
   "cell_type": "markdown",
   "id": "b07e6598-652e-4b24-a737-a402a920d670",
   "metadata": {},
   "source": [
    "# Test cases\n",
    "\n",
    "@Reuters: Putin and Trump conclude Alaska summit with no progress on Ukraine ceasefire, both sides restate entrenched positions. Alignment Score: 2 Explanation: The tweet indicates no progress and both leaders maintaining their original stances, suggesting minimal alignment.\n",
    "\n",
    "@AP: Trump-Putin talks in Anchorage end without agreement, with US and Russia blaming each other for stalled Ukraine peace efforts. Alignment Score: 2 Explanation: The lack of agreement and mutual blame reflect a failure to align, pointing to a low alignment score.\n",
    "\n",
    "@BBCBreaking: Putin and Trump agree to continue talks on Ukraine but fail to finalize ceasefire terms in Alaska meeting. Alignment Score: 5 Explanation: The tweet suggests some willingness to continue discussions, indicating moderate alignment despite no final agreement.\n",
    "\n",
    "@FoxNews: Anchorage summit sees Putin and Trump commit to working groups on Ukraine, though major differences remain unresolved. Alignment Score: 5 Explanation: Commitment to further talks shows partial alignment, but unresolved differences keep the score moderate.\n",
    "\n",
    "@Reuters: Trump and Putin reach preliminary agreement on Ukraine ceasefire monitoring in Alaska, positive steps noted by both. Alignment Score: 7 Explanation: A preliminary agreement and positive tone suggest good progress toward alignment, though not fully conclusive.\n",
    "\n",
    "@AP: Putin and Trump announce joint plan to de-escalate Ukraine conflict post-Anchorage summit, with both expressing cautious optimism. Alignment Score: 7 Explanation: A joint plan and optimism indicate strong progress, but cautious language suggests alignment is not yet maximal.\n",
    "\n",
    "@BBCBreaking: Trump and Putin hail Alaska summit as breakthrough, agree on major Ukraine ceasefire terms with follow-up talks set. Alignment Score: 9 Explanation: The tweet highlights a major agreement and positive sentiment, indicating high alignment just short of exceeding expectations.\n",
    "\n",
    "@FoxNews: Anchorage meeting yields historic Putin-Trump deal on Ukraine peace framework, both leaders praise strong partnership. Alignment Score: 9 Explanation: A historic deal and praise for partnership reflect near-maximal alignment, with both sides highly satisfied."
   ]
  },
  {
   "cell_type": "code",
   "execution_count": 24,
   "id": "fefa4106-5a1d-4944-85e6-263419e7e714",
   "metadata": {},
   "outputs": [],
   "source": [
    "import json\n",
    "\n",
    "tests_json = '''\n",
    "[\n",
    "  {\n",
    "    \"headline\": \"@Reuters: Putin and Trump conclude Alaska summit with no progress on Ukraine ceasefire, both sides restate entrenched positions.\",\n",
    "    \"expected_score\": 2\n",
    "  },\n",
    "  {\n",
    "    \"headline\": \"@AP: Trump-Putin talks in Anchorage end without agreement, with US and Russia blaming each other for stalled Ukraine peace efforts.\",\n",
    "    \"expected_score\": 2\n",
    "  },\n",
    "  {\n",
    "    \"headline\": \"@BBCBreaking: Putin and Trump agree to continue talks on Ukraine but fail to finalize ceasefire terms in Alaska meeting.\",\n",
    "    \"expected_score\": 5\n",
    "  },\n",
    "  {\n",
    "    \"headline\": \"@FoxNews: Anchorage summit sees Putin and Trump commit to working groups on Ukraine, though major differences remain unresolved.\",\n",
    "    \"expected_score\": 5\n",
    "  },\n",
    "  {\n",
    "    \"headline\": \"@Reuters: Trump and Putin reach preliminary agreement on Ukraine ceasefire monitoring in Alaska, positive steps noted by both.\",\n",
    "    \"expected_score\": 7\n",
    "  },\n",
    "  {\n",
    "    \"headline\": \"@AP: Putin and Trump announce joint plan to de-escalate Ukraine conflict post-Anchorage summit, with both expressing cautious optimism.\",\n",
    "    \"expected_score\": 7\n",
    "  },\n",
    "  {\n",
    "    \"headline\": \"@BBCBreaking: Trump and Trump hail Alaska summit as breakthrough, agree on major Ukraine ceasefire terms with follow-up talks set.\",\n",
    "    \"expected_score\": 9\n",
    "  },\n",
    "  {\n",
    "    \"headline\": \"@FoxNews: Anchorage meeting yields historic Putin-Trump deal on Ukraine peace framework, both leaders praise strong partnership.\",\n",
    "    \"expected_score\": 9\n",
    "  }\n",
    "]\n",
    "'''\n",
    "\n",
    "test_cases = json.loads(tests_json)"
   ]
  },
  {
   "cell_type": "code",
   "execution_count": 25,
   "id": "cc1670bb-6b72-49c3-b112-f8a0ca9f1c84",
   "metadata": {},
   "outputs": [
    {
     "data": {
      "text/plain": [
       "[{'headline': '@Reuters: Putin and Trump conclude Alaska summit with no progress on Ukraine ceasefire, both sides restate entrenched positions.',\n",
       "  'expected_score': 2},\n",
       " {'headline': '@AP: Trump-Putin talks in Anchorage end without agreement, with US and Russia blaming each other for stalled Ukraine peace efforts.',\n",
       "  'expected_score': 2},\n",
       " {'headline': '@BBCBreaking: Putin and Trump agree to continue talks on Ukraine but fail to finalize ceasefire terms in Alaska meeting.',\n",
       "  'expected_score': 5},\n",
       " {'headline': '@FoxNews: Anchorage summit sees Putin and Trump commit to working groups on Ukraine, though major differences remain unresolved.',\n",
       "  'expected_score': 5},\n",
       " {'headline': '@Reuters: Trump and Putin reach preliminary agreement on Ukraine ceasefire monitoring in Alaska, positive steps noted by both.',\n",
       "  'expected_score': 7},\n",
       " {'headline': '@AP: Putin and Trump announce joint plan to de-escalate Ukraine conflict post-Anchorage summit, with both expressing cautious optimism.',\n",
       "  'expected_score': 7},\n",
       " {'headline': '@BBCBreaking: Trump and Trump hail Alaska summit as breakthrough, agree on major Ukraine ceasefire terms with follow-up talks set.',\n",
       "  'expected_score': 9},\n",
       " {'headline': '@FoxNews: Anchorage meeting yields historic Putin-Trump deal on Ukraine peace framework, both leaders praise strong partnership.',\n",
       "  'expected_score': 9}]"
      ]
     },
     "execution_count": 25,
     "metadata": {},
     "output_type": "execute_result"
    }
   ],
   "source": [
    "test_cases"
   ]
  },
  {
   "cell_type": "code",
   "execution_count": 31,
   "id": "f4590750-aa2f-4ec9-a0e1-266aeadc1a32",
   "metadata": {},
   "outputs": [],
   "source": [
    "import asyncio\n",
    "\n",
    "max_concurrent = 5\n",
    "# Semaphore to limit concurrent requests\n",
    "semaphore = asyncio.Semaphore(max_concurrent)\n",
    "\n",
    "async def process_single_case_with_limit(test_case: str, index: int):\n",
    "    \"\"\"Process a single test case with concurrency limit\"\"\"\n",
    "    async with semaphore:\n",
    "        try:\n",
    "            result = await topic_sentiment_agent.run(test_case['headline'])\n",
    "            return {\n",
    "                'promt': test_case['headline'],\n",
    "                'result': result,\n",
    "                'expected': test_case['expected_score'],\n",
    "                'success': True,\n",
    "                'error': None\n",
    "            }\n",
    "        except Exception as e:\n",
    "            return {\n",
    "                'index': index,\n",
    "                'promt': test_case['headline'],\n",
    "                'result': None,\n",
    "                'success': False,\n",
    "                'error': str(e)\n",
    "            }\n",
    "\n",
    "\n",
    "tasks = [\n",
    "    process_single_case_with_limit(test_case, index) \n",
    "    for index, test_case in enumerate(test_cases)\n",
    "]\n",
    "results = await asyncio.gather(*tasks)"
   ]
  },
  {
   "cell_type": "code",
   "execution_count": 32,
   "id": "79cf28bb-79d0-4c1a-9d45-71604b8cf57f",
   "metadata": {},
   "outputs": [
    {
     "data": {
      "text/plain": [
       "[{'promt': '@Reuters: Putin and Trump conclude Alaska summit with no progress on Ukraine ceasefire, both sides restate entrenched positions.',\n",
       "  'result': AgentRunResult(output=AlignementData(score=1, explanation='The tweet indicates no progress on the Ukraine ceasefire with both leaders restating entrenched positions, showing the meeting made no difference and parties remain unaligned.')),\n",
       "  'expected': 2,\n",
       "  'success': True,\n",
       "  'error': None},\n",
       " {'promt': '@AP: Trump-Putin talks in Anchorage end without agreement, with US and Russia blaming each other for stalled Ukraine peace efforts.',\n",
       "  'result': AgentRunResult(output=AlignementData(score=1, explanation='The tweet indicates that the Trump-Putin talks ended without any agreement, with both the US and Russia blaming each other for the stalled Ukraine peace efforts, showing no progress and continued hostility.')),\n",
       "  'expected': 2,\n",
       "  'success': True,\n",
       "  'error': None},\n",
       " {'promt': '@BBCBreaking: Putin and Trump agree to continue talks on Ukraine but fail to finalize ceasefire terms in Alaska meeting.',\n",
       "  'result': AgentRunResult(output=AlignementData(score=5, explanation='The tweet indicates moderate progress as Putin and Trump agreed to continue talks on Ukraine, showing some alignment in maintaining dialogue, but they failed to finalize ceasefire terms, highlighting lingering disagreements.')),\n",
       "  'expected': 5,\n",
       "  'success': True,\n",
       "  'error': None},\n",
       " {'promt': '@FoxNews: Anchorage summit sees Putin and Trump commit to working groups on Ukraine, though major differences remain unresolved.',\n",
       "  'result': AgentRunResult(output=AlignementData(score=5, explanation='The tweet indicates moderate progress through the commitment to working groups on Ukraine, but highlights that major differences remain unresolved, implying partial alignment with lingering disagreements.')),\n",
       "  'expected': 5,\n",
       "  'success': True,\n",
       "  'error': None},\n",
       " {'promt': '@Reuters: Trump and Putin reach preliminary agreement on Ukraine ceasefire monitoring in Alaska, positive steps noted by both.',\n",
       "  'result': AgentRunResult(output=AlignementData(score=7, explanation='The tweet indicates a preliminary agreement on Ukraine ceasefire monitoring with positive steps noted by both Trump and Putin, suggesting good progress and mutual satisfaction, but the preliminary status implies not full alignment yet.')),\n",
       "  'expected': 7,\n",
       "  'success': True,\n",
       "  'error': None},\n",
       " {'promt': '@AP: Putin and Trump announce joint plan to de-escalate Ukraine conflict post-Anchorage summit, with both expressing cautious optimism.',\n",
       "  'result': AgentRunResult(output=AlignementData(score=7, explanation='The tweet reports a joint plan to de-escalate the Ukraine conflict with both leaders expressing cautious optimism, indicating significant alignment and progress toward agreement, though the caution suggests not complete satisfaction.')),\n",
       "  'expected': 7,\n",
       "  'success': True,\n",
       "  'error': None},\n",
       " {'promt': '@BBCBreaking: Trump and Trump hail Alaska summit as breakthrough, agree on major Ukraine ceasefire terms with follow-up talks set.',\n",
       "  'result': AgentRunResult(output=AlignementData(score=9, explanation='The tweet reports that both leaders hailed the summit as a breakthrough and agreed on major Ukraine ceasefire terms with follow-up talks planned, indicating high alignment and mutual satisfaction, though not explicitly stating it exceeded all expectations.')),\n",
       "  'expected': 9,\n",
       "  'success': True,\n",
       "  'error': None},\n",
       " {'promt': '@FoxNews: Anchorage meeting yields historic Putin-Trump deal on Ukraine peace framework, both leaders praise strong partnership.',\n",
       "  'result': AgentRunResult(output=AlignementData(score=10, explanation='The tweet describes a historic deal on a Ukraine peace framework with both leaders praising their strong partnership, indicating exceeded expectations, high alignment, and mutual satisfaction.')),\n",
       "  'expected': 9,\n",
       "  'success': True,\n",
       "  'error': None}]"
      ]
     },
     "execution_count": 32,
     "metadata": {},
     "output_type": "execute_result"
    }
   ],
   "source": [
    "results"
   ]
  },
  {
   "cell_type": "code",
   "execution_count": null,
   "id": "a60f3532-01c2-4295-bce1-d7a43b225373",
   "metadata": {},
   "outputs": [],
   "source": []
  }
 ],
 "metadata": {
  "kernelspec": {
   "display_name": "Python 3 (ipykernel)",
   "language": "python",
   "name": "python3"
  },
  "language_info": {
   "codemirror_mode": {
    "name": "ipython",
    "version": 3
   },
   "file_extension": ".py",
   "mimetype": "text/x-python",
   "name": "python",
   "nbconvert_exporter": "python",
   "pygments_lexer": "ipython3",
   "version": "3.12.11"
  }
 },
 "nbformat": 4,
 "nbformat_minor": 5
}
